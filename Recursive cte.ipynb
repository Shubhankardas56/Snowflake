{
 "metadata": {
  "kernelspec": {
   "display_name": "Streamlit Notebook",
   "name": "streamlit"
  }
 },
 "nbformat_minor": 5,
 "nbformat": 4,
 "cells": [
  {
   "cell_type": "code",
   "id": "bc6118d2-de46-4784-a6b7-605091c664bb",
   "metadata": {
    "language": "sql",
    "name": "cell1",
    "collapsed": false
   },
   "outputs": [],
   "source": "with recursive number_table as(\nselect 1 as n\nunion all\nselect n+1 as n from number_table where n<10\n) \nselect n from number_table;",
   "execution_count": null
  },
  {
   "cell_type": "code",
   "id": "e2ae72dc-7290-4b19-b23b-c4f7f00155c1",
   "metadata": {
    "language": "sql",
    "name": "cell2",
    "collapsed": false
   },
   "outputs": [],
   "source": "create or replace sequence my_seq start with 1 increment by 1;",
   "execution_count": null
  },
  {
   "cell_type": "code",
   "id": "857bd89b-9dec-43df-90ca-a9cd78daf951",
   "metadata": {
    "language": "sql",
    "name": "cell4",
    "collapsed": false
   },
   "outputs": [],
   "source": "ALTER SESSION SET TIMEZONE = 'Asia/Kolkata';",
   "execution_count": null
  },
  {
   "cell_type": "code",
   "id": "8ef0d044-b2ae-4dde-9499-ba7d315765a9",
   "metadata": {
    "language": "sql",
    "name": "cell3",
    "collapsed": false
   },
   "outputs": [],
   "source": "select\n\ncurrent_date() as today,\nyear(today) as year,\nmonth(today) as month,\nquarter(today) as quarter,\nday(today) as day,\nweek(today) as week;\n\n",
   "execution_count": null
  },
  {
   "cell_type": "code",
   "id": "616a89f1-ff5e-4df3-8ac4-5113812aeacd",
   "metadata": {
    "language": "sql",
    "name": "cell5",
    "collapsed": false
   },
   "outputs": [],
   "source": "with recursive date_dim_cte as (\nselect\nmy_seq.nextval as row_pk,\ncurrent_date() as today,\nyear(today) as current_year,\nmonth(today) as current_month,\nquarter(today) as current_quarter,\nday(today) as current_day,\ndayofyear(today) as day_of_year,\ndayofweek(today) as day_of_week,\nweek(today) as current_week,\ndayname(today) as dayname\nunion all\nselect \nmy_seq.nextval as row_pk,\ndateadd('day',-1,today) as today_inc,\nyear(today_inc) as year,\nmonth(today_inc) as month,\nquarter(today_inc) as quarter,\nday(today_inc) as day,\ndayofyear(today_inc) as day_of_year,\ndayofweek(today_inc) as day_of_week,\nweek(today_inc) as week,\ndayname(today_inc) as dayname\nfrom date_dim_cte where today_inc > '2024-10-01'\n)\nselect * from date_dim_cte;",
   "execution_count": null
  },
  {
   "cell_type": "code",
   "id": "eae2638d-1fc5-47e7-8619-54a7d3018222",
   "metadata": {
    "language": "sql",
    "name": "cell6",
    "collapsed": false
   },
   "outputs": [],
   "source": "CREATE or replace TABLE employee (\n    employee_id INT PRIMARY KEY,\n    employee_name VARCHAR(100),\n    manager_id INT NULL -- Manager ID references another employee in the same table\n);\n\nINSERT INTO employee (employee_id, employee_name, manager_id) VALUES\n(1, 'Alice', NULL),      -- Level 1: Alice is the CEO (no manager)\n(2, 'Bob', 1),           -- Level 2: Bob reports to Alice\n(3, 'Charlie', 1),       -- Level 2: Charlie reports to Alice\n(4, 'Diana', 2),         -- Level 3: Diana reports to Bob\n(5, 'Edward', 2),        -- Level 3: Edward reports to Bob\n(6, 'Frank', 3),         -- Level 3: Frank reports to Charlie\n(7, 'Grace', 3),         -- Level 3: Grace reports to Charlie\n(8, 'Henry', 4),         -- Level 4: Henry reports to Diana\n(9, 'Jack', 5),          -- Level 4: Jack reports to Edward\n(10, 'Kevin', 6),        -- Level 4: Kevin reports to Frank\n(11, 'Linda', 7),        -- Level 4: Linda reports to Grace\n(12, 'Isabella', 8);     -- Level 5: Isabella reports to Henry",
   "execution_count": null
  },
  {
   "cell_type": "code",
   "id": "d59eaa4b-e3e6-44a2-86c6-744c2662b6eb",
   "metadata": {
    "language": "sql",
    "name": "cell7",
    "collapsed": false
   },
   "outputs": [],
   "source": "select * from employee; ",
   "execution_count": null
  },
  {
   "cell_type": "code",
   "id": "9b2f6e6a-c505-4041-ad79-816a932e35b9",
   "metadata": {
    "language": "sql",
    "name": "cell8",
    "collapsed": false
   },
   "outputs": [],
   "source": "select employee_id,employee_name,manager_id from employee where manager_id is null;",
   "execution_count": null
  },
  {
   "cell_type": "code",
   "id": "9ce2db9f-fb82-49a6-b08a-f240ca072c0d",
   "metadata": {
    "language": "sql",
    "name": "cell10",
    "collapsed": false
   },
   "outputs": [],
   "source": "select e.employee_id,e.employee_name,m.employee_name as manager_name from employee e join employee m on m.manager_id=e.employee_id  ;",
   "execution_count": null
  },
  {
   "cell_type": "code",
   "id": "c9acf3aa-7a48-481f-99e5-92de4ce8bde3",
   "metadata": {
    "language": "sql",
    "name": "cell9",
    "collapsed": false
   },
   "outputs": [],
   "source": "with recursive emp_manager_hierarchy as(\n\nselect employee_id,employee_name,manager_id,employee_name as manager_chain from employee where manager_id is null\n\nunion all\n\nselect e.employee_id,e.employee_name,e.manager_id,concat(manager_chain,'-->',e.employee_name) as manager_chain\nfrom employee e inner join emp_manager_hierarchy emh on e.manager_id=emh.employee_id \n\n)\nselect * from emp_manager_hierarchy;",
   "execution_count": null
  },
  {
   "cell_type": "code",
   "id": "4119cdcf-66c4-4231-b7f6-bf074534f484",
   "metadata": {
    "language": "sql",
    "name": "cell11",
    "collapsed": false
   },
   "outputs": [],
   "source": "select 1000 as factory,1 as count",
   "execution_count": null
  },
  {
   "cell_type": "code",
   "id": "cd732e0c-8982-4057-a90e-5b926a7f9b67",
   "metadata": {
    "language": "sql",
    "name": "cell12",
    "collapsed": false
   },
   "outputs": [],
   "source": "with recursive cte as(\nselect '10001' as factory_count,1 as count\nunion all \nselect concat('1000',count+1) as factory_count,\ncount+1 as count\nfrom cte where count <1000\n)\nselect * from cte;",
   "execution_count": null
  }
 ]
}