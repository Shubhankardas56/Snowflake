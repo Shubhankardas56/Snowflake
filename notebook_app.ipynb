{
 "metadata": {
  "kernelspec": {
   "display_name": "Streamlit Notebook",
   "name": "streamlit"
  }
 },
 "nbformat_minor": 5,
 "nbformat": 4,
 "cells": [
  {
   "cell_type": "code",
   "id": "bbd48cba-536d-4df9-b890-07ddf2286707",
   "metadata": {
    "language": "sql",
    "name": "cell1",
    "collapsed": false
   },
   "outputs": [],
   "source": "CREATE OR REPLACE TABLE Customers (\n    Customer_ID INT PRIMARY KEY,\n    Customer_Name VARCHAR(100),\n    Country VARCHAR(50)\n);",
   "execution_count": null
  },
  {
   "cell_type": "code",
   "id": "27faa880-fba7-4256-9bf6-2779ab97ce3d",
   "metadata": {
    "language": "sql",
    "name": "cell2",
    "collapsed": false
   },
   "outputs": [],
   "source": "CREATE OR REPLACE TABLE Products (\n    Product_ID VARCHAR(10) PRIMARY KEY,\n    Product_Name VARCHAR(100),\n    Category VARCHAR(50)\n);",
   "execution_count": null
  },
  {
   "cell_type": "code",
   "id": "f4d40c73-af4e-4fce-915d-9bbf8e834fad",
   "metadata": {
    "language": "sql",
    "name": "cell3",
    "collapsed": false
   },
   "outputs": [],
   "source": "CREATE OR REPLACE TABLE Sales_Transactions (\n    Transaction_ID INT PRIMARY KEY,\n    Customer_ID INT,\n    Product_ID VARCHAR(10),\n    Sales_Amount DECIMAL(10, 2),\n    Transaction_Date DATE,\n    FOREIGN KEY (Customer_ID) REFERENCES Customers(Customer_ID),\n    FOREIGN KEY (Product_ID) REFERENCES Products(Product_ID)\n);",
   "execution_count": null
  },
  {
   "cell_type": "code",
   "id": "0af6cdab-35be-4891-8eab-f271a9044a14",
   "metadata": {
    "language": "sql",
    "name": "cell4",
    "collapsed": false
   },
   "outputs": [],
   "source": "INSERT INTO Customers (Customer_ID, Customer_Name, Country) VALUES\n(1, 'Alice', 'USA'),\n(2, 'Srini', 'India'),\n(3, 'Charlie', 'UK'),\n(4, 'David', 'Australia'),\n(5, 'Eve', 'Germany'),\n(6, 'Rahul', 'India'),\n(7, 'Grace', 'Germany'),\n(8, 'Heidi', 'Japan'),\n(9, 'Nishant', 'India'),\n(10, 'Judy', 'Australia');",
   "execution_count": null
  },
  {
   "cell_type": "code",
   "id": "05ac34eb-6cbf-4b80-b2d1-d2c3f09e7eca",
   "metadata": {
    "language": "sql",
    "name": "cell5",
    "collapsed": false
   },
   "outputs": [],
   "source": "INSERT INTO Products (Product_ID, Product_Name,Category) VALUES\n\n('P01', 'Smartphone Case', 'Mobile Accessories'),\n\n('P02', 'Screen Protector', 'Mobile Accessories'), ('P03', 'Wireless Charger', 'Mobile Accessories'),\n\n('P04', 'Bluetooth Earphones', 'Mobile Accessories'), ('P05', 'Portable Power Bank','Mobile Accessories'), \n('P06', 'Car Phone Mount', 'Mobile Accessories'),\n\n('Pa7', 'Selfie Stick', 'Mobile Accessories'), \n('P08', 'Phone Camera Lens', 'Mobile Accessories'),\n\n('P09', 'Smartwatch', 'Mobile Accessories'),\n\n('P10', 'USB-C Cable', 'Mobile Accessories');",
   "execution_count": null
  },
  {
   "cell_type": "code",
   "id": "13d9b0c6-a2b4-427b-906c-b44120f9612b",
   "metadata": {
    "language": "sql",
    "name": "cell6"
   },
   "outputs": [],
   "source": "INSERT INTO Sales_Transactions (Transaction_ID, Customer_ID, Product_ID, Sales_Amount, Transaction_Date) VALUES\n(1, 1, 'P01', 15.00, '2024-09-01'),\n(2, 2, 'P02', 10.00, '2024-09-01'),\n(3, 3, 'P03', 25.00, '2024-09-02'),\n(4, 4, 'P04', 50.00, '2024-09-02'),\n(5, 5, 'P05', 30.00, '2024-09-03'),\n(6, 6, 'P06', 20.00, '2024-09-03'),\n(7, 7, 'P07', 10.00, '2024-09-04'),\n(8, 8, 'P08', 40.00, '2024-09-04'),\n(9, 9, 'P09', 100.00, '2024-09-05'),\n(10, 10, 'P10', 8.00, '2024-09-05'),\n(11, 1, 'P02', 12.00, '2024-09-06'),\n(12, 2, 'P03', 22.00, '2024-09-06'),\n(13, 3, 'P04', 55.00, '2024-09-07'),\n(14, 4, 'P05', 33.00, '2024-09-07'),\n(15, 5, 'P06', 18.00, '2024-09-08'),\n(16, 6, 'P07', 11.00, '2024-09-08'),\n(17, 7, 'P08', 39.00, '2024-09-09'),\n(18, 8, 'P09', 95.00, '2024-09-09'),\n(19, 9, 'P10', 7.00, '2024-09-10'),\n(20, 10, 'P01', 14.00, '2024-09-10'),\n(21, 1, 'P03', 26.00, '2024-09-11'),\n(22, 2, 'P04', 52.00, '2024-09-11'),\n(23, 3, 'P05', 28.00, '2024-09-12'),\n(24, 4, 'P06', 19.00, '2024-09-12'),\n(25, 5, 'P07', 13.00, '2024-09-13'),\n(26, 6, 'P08', 38.00, '2024-09-13'),\n(27, 7, 'P09', 90.00, '2024-09-14'),\n(28, 8, 'P10', 6.00, '2024-09-14'),\n(29, 9, 'P01', 16.00, '2024-09-15'),\n(30, 10, 'P02', 11.00, '2024-09-15'),\n(31, 1, 'P04', 45.00, '2024-09-15'),\n(32, 2, 'P05', 30.00, '2024-09-16'),\n(33, 3, 'P06', 20.00, '2024-09-16'),\n(34, 4, 'P07', 12.00, '2024-09-17'),\n(35, 5, 'P08', 42.00, '2024-09-17'),\n(36, 6, 'P09', 105.00, '2024-09-18'),\n(37, 7, 'P10', 9.00, '2024-09-18'),\n(38, 8, 'P01', 13.00, '2024-09-19'),\n(39, 9, 'P02', 9.00, '2024-09-19'),\n(40, 10, 'P03', 24.00, '2024-09-20');",
   "execution_count": null
  },
  {
   "cell_type": "code",
   "id": "da0ac5d5-3012-4a03-803a-15468733c2d4",
   "metadata": {
    "language": "sql",
    "name": "cell7",
    "collapsed": false
   },
   "outputs": [],
   "source": "--select * from customers;\n--select * from products;\nselect * from Sales_Transactions;",
   "execution_count": null
  },
  {
   "cell_type": "code",
   "id": "5202459d-b12f-4539-9a0a-5a5a10e41291",
   "metadata": {
    "language": "sql",
    "name": "cell8",
    "codeCollapsed": false,
    "collapsed": false
   },
   "outputs": [],
   "source": "select  st.transaction_id,c.customer_name,c.country,p.product_name,p.category,\nst.sales_amount,st.transaction_date\nfrom \nSales_Transactions st\njoin Customers c on c.customer_id=st.customer_id\njoin Products p on p.product_id=st.product_id; ",
   "execution_count": null
  },
  {
   "cell_type": "code",
   "id": "11f5a231-7aa6-4c3d-9223-a3050a46c7f0",
   "metadata": {
    "language": "sql",
    "name": "cell9",
    "codeCollapsed": false,
    "collapsed": false
   },
   "outputs": [],
   "source": "select sum(sales_amount),avg(sales_amount) from Sales_Transactions;",
   "execution_count": null
  },
  {
   "cell_type": "code",
   "id": "a6d8fae0-5e35-44b3-a187-eb2585dedb07",
   "metadata": {
    "language": "sql",
    "name": "cell10",
    "collapsed": false
   },
   "outputs": [],
   "source": "--select avg(sales_amount) from Sales_Transactions;\nselect * from Sales_Transactions where sales_amount>(select avg(sales_amount) from Sales_Transactions);\n",
   "execution_count": null
  },
  {
   "cell_type": "code",
   "id": "957746a0-51cf-4a50-a9ac-6c867b8c5f34",
   "metadata": {
    "language": "sql",
    "name": "cell11",
    "collapsed": false
   },
   "outputs": [],
   "source": "with avg_sales_amount(avg_sm)\nas\n(\nselect avg(sales_amount) from sales_Transactions\n\n)\nselect * from sales_Transactions st join avg_sales_amount where sales_amount>avg_sm;",
   "execution_count": null
  },
  {
   "cell_type": "code",
   "id": "7d1bc4d4-aabb-45ca-974c-b557c70246ef",
   "metadata": {
    "language": "sql",
    "name": "cell12",
    "collapsed": false
   },
   "outputs": [],
   "source": "with sales_amount_table as(\nselect st.sales_amount as sales_amount,c.country as country \n\n\nfrom sales_Transactions st join  customers c on c.customer_id=st.customer_id \n\n),Japan_avgSales_table as(\n\nselect avg(st.sales_amount) as avg_japan_sales from sales_Transactions st join  customers c on c.customer_id=st.customer_id where c.country='Japan'\n\n\n),Australia_avgSales_table as(\n\nselect avg(st.sales_amount) as avg_australia_sales from sales_Transactions st join  customers c on c.customer_id=st.customer_id where c.country='Australia'\n\n)\nselect * from sales_amount_table smt join Japan_avgSales_table j join Australia_avgSales_table a  where smt.sales_amount between a.avg_australia_sales and j.avg_japan_sales ;",
   "execution_count": null
  },
  {
   "cell_type": "code",
   "id": "48b12963-af17-4e29-8af7-277ff20028b1",
   "metadata": {
    "language": "sql",
    "name": "cell13",
    "codeCollapsed": false
   },
   "outputs": [],
   "source": "with total_sales_by_country_table as (\n\nselect \nc.country,\np.product_id,\np.product_name,\nsum(st.sales_amount) as total_sales_by_country\nfrom sales_transactions st join customers c on c.customer_id=st.customer_id\njoin products p on p.product_id=st.product_id group by c.country,p.product_id,p.product_name\n\n),total_sales_by_product_table as (\nselect \np.product_id,\np.product_name,\nsum(st.sales_amount) as total_sales_by_product\nfrom sales_transactions st join products p on st.product_id=p.product_id group by p.product_id,p.product_name\n)\nselect \ntsc.country,\ntsc.product_id,\ntsc.product_name,\ntsc.total_sales_by_country,\ntsp.total_sales_by_product,\nround((tsc.total_sales_by_country/tsp.total_sales_by_product*100),2) as sales_percentage\n\nfrom  total_sales_by_country_table tsc join total_sales_by_product_table tsp on tsc.product_id=tsp.product_id;",
   "execution_count": null
  }
 ]
}