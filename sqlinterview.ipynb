{
 "metadata": {
  "kernelspec": {
   "display_name": "Streamlit Notebook",
   "name": "streamlit"
  }
 },
 "nbformat_minor": 5,
 "nbformat": 4,
 "cells": [
  {
   "cell_type": "code",
   "id": "7d84a6e7-fa61-4746-931c-de4059142acd",
   "metadata": {
    "language": "sql",
    "name": "cell1",
    "collapsed": false,
    "resultHeight": 0
   },
   "outputs": [],
   "source": "CREATE TABLE emp_tbl (id datetime, empid int);\n\nINSERT INTO emp_tbl VALUES ('2024-01-13 09:25:00', 10),('2024-01-13 19:35:00', 10),('2024-01-16 09:10:00', 10),\n('2024-01-16 18:10:00', 10),('2024-02-11 09:07:00', 10),('2024-02-11 19:20:00', 10),('2024-02-17 08:40:00', 17),\n('2024-02-17 18:04:00', 17),('2024-03-23 09:20:00', 10),('2024-03-23 18:30:00', 10);",
   "execution_count": null
  },
  {
   "cell_type": "code",
   "id": "248bd1ab-e344-4c65-86f4-ee0317585b04",
   "metadata": {
    "language": "sql",
    "name": "cell2",
    "collapsed": false,
    "resultHeight": 0
   },
   "outputs": [],
   "source": "select empid,day(id) as day from emp_tbl where dayname(id) in ('Sat','Sun') group by empid,day(id);",
   "execution_count": null
  },
  {
   "cell_type": "code",
   "id": "98362070-200f-412d-ab42-c56ae07c9207",
   "metadata": {
    "language": "sql",
    "name": "cell3",
    "collapsed": false,
    "resultHeight": 0
   },
   "outputs": [],
   "source": "create table tbl_maxval (col1 varchar(50), col2 int, col3 int);\ninsert into tbl_maxval values ('a',10,20),('b',50,30);",
   "execution_count": null
  },
  {
   "cell_type": "code",
   "id": "42bcca7d-91ce-4378-b23f-0dbb965b866e",
   "metadata": {
    "language": "sql",
    "name": "cell4",
    "collapsed": false,
    "resultHeight": 0
   },
   "outputs": [],
   "source": "select col1,least(col2,col3) from tbl_maxval;",
   "execution_count": null
  },
  {
   "cell_type": "code",
   "id": "f1aa0f92-d326-4ddb-9ce1-01d3b23b2e06",
   "metadata": {
    "language": "sql",
    "name": "cell5",
    "collapsed": false,
    "resultHeight": 0
   },
   "outputs": [],
   "source": "create table emp(empid int, empname varchar(50), salary int, deptid int);\ninsert into emp values (1,'Nikitha',45000,206),(2,'Ashish',42000,207),(3,'David',40000,206),(4,'Ram',50000,207),(5,'John',35000,208),(6,'Mark',50000,207),(7,'Aravind',39000,208);\n\n\ncreate table dept (deptid int, deptname varchar(50));\ninsert into dept values (206,'HR'),(207,'IT'),(208,'Finance');",
   "execution_count": null
  },
  {
   "cell_type": "code",
   "id": "d983aa77-c6f7-4451-83b1-4008b3127b27",
   "metadata": {
    "language": "sql",
    "name": "cell8",
    "collapsed": false,
    "resultHeight": 0
   },
   "outputs": [],
   "source": "select * from emp;",
   "execution_count": null
  },
  {
   "cell_type": "code",
   "id": "393cbaed-444d-46a6-9a0f-213f695f8175",
   "metadata": {
    "language": "sql",
    "name": "cell6",
    "collapsed": false,
    "resultHeight": 0
   },
   "outputs": [],
   "source": "with cte as(\nselect *,dense_rank() over(partition by e.deptid order by e.salary desc) as rank from emp e inner join dept d on e.deptid=d.deptid ),cte2 as(\nselect * from cte where rank=1\n)\nselect deptname,listagg(empname,',') as maxsal from cte2 group by deptname;\n",
   "execution_count": null
  },
  {
   "cell_type": "code",
   "id": "d3984682-c654-4003-828e-a9bc721aad53",
   "metadata": {
    "language": "sql",
    "name": "cell7",
    "collapsed": false,
    "resultHeight": 0
   },
   "outputs": [],
   "source": "select * from dept;",
   "execution_count": null
  },
  {
   "cell_type": "code",
   "id": "8214ec7a-832a-410a-b872-21e7d588d020",
   "metadata": {
    "language": "sql",
    "name": "cell9",
    "collapsed": false,
    "resultHeight": 0
   },
   "outputs": [],
   "source": "create table empdept_tbl (eid int, dept varchar(50),scores float);\ninsert into empdept_tbl values (1, 'd1', 1.0),(2, 'd1', 5.28),(3, 'd1', 4.0),(4,'d2', 8.0),(5, 'd1', 2.5),(6, 'd2', 7.0),(7, 'd3', 9.0),(8, 'd4', 10.2);",
   "execution_count": null
  },
  {
   "cell_type": "code",
   "id": "1ea7c7fb-77ee-4b4d-8a1a-6faa7c3e8990",
   "metadata": {
    "language": "sql",
    "name": "cell10",
    "collapsed": false,
    "resultHeight": 356
   },
   "outputs": [],
   "source": "select *,max(scores) over(partition by dept order by dept) as maxscore from empdept_tbl;",
   "execution_count": null
  },
  {
   "cell_type": "code",
   "id": "76ed1d57-3550-4b26-9891-79829e332d3e",
   "metadata": {
    "language": "sql",
    "name": "cell11",
    "collapsed": false,
    "resultHeight": 356
   },
   "outputs": [],
   "source": "with cte as(\nselect dept,max(scores) as maxscore from empdept_tbl e group by dept order by dept asc)\nselect e.*,c.maxscore as maxempscore\nfrom cte c inner join empdept_tbl e on c.dept=e.dept",
   "execution_count": null
  },
  {
   "cell_type": "code",
   "id": "2b506c91-147f-4024-9bb2-0b15cddc8df6",
   "metadata": {
    "language": "sql",
    "name": "cell12",
    "collapsed": false,
    "resultHeight": 87
   },
   "outputs": [],
   "source": "WITH MaxScores AS (\n  SELECT dept, MAX(scores) AS max_score\n  FROM empdept_tbl\n  GROUP BY dept\n)\n\nSELECT \n  e.eid, \n  e.dept, \n  e.scores, \n  m.max_score AS max_score_for_dept\nFROM \n  empdept_tbl e\nJOIN \n  MaxScores m ON e.dept = m.dept;",
   "execution_count": null
  },
  {
   "cell_type": "code",
   "id": "8062c297-c06a-447d-ad97-17f130e6edad",
   "metadata": {
    "language": "sql",
    "name": "cell13",
    "collapsed": false,
    "resultHeight": 87
   },
   "outputs": [],
   "source": "create table prd_tbl (dt date, brand varchar(50), model varchar(50),\nproduction_cost int);\n\ninsert into prd_tbl values ('2023-12-01', 'A', 'A1', 1000), ('2023-12-01', 'A', 'A2', 1300),('2023-12-01', 'B', 'B1', 800), ('2023-12-02', 'A', 'A1', 1800),('2023-12-02', 'B', 'B1', 900), ('2023-12-10', 'A', 'A1', 1400),('2023-12-10', 'A', 'A1', 1200), ('2023-12-10', 'C', 'C1', 2500);",
   "execution_count": null
  },
  {
   "cell_type": "code",
   "id": "c4ef353d-1de4-4353-84ea-45ae2fad9208",
   "metadata": {
    "language": "sql",
    "name": "cell14",
    "collapsed": false,
    "resultHeight": 356
   },
   "outputs": [],
   "source": "select * from prd_tbl;",
   "execution_count": null
  },
  {
   "cell_type": "code",
   "id": "fc6b2376-7cf4-47fd-ab38-5ac8d78e3d3d",
   "metadata": {
    "language": "sql",
    "name": "cell15",
    "collapsed": false,
    "resultHeight": 87
   },
   "outputs": [],
   "source": "with cte as(\nselect dt,brand,sum(production_cost) as totalproduction from prd_tbl group by dt,brand)\nselect p.*,c.totalproduction as totalproduction from cte c inner join prd_tbl p on c.brand=p.brand and c.dt=p.dt;",
   "execution_count": null
  },
  {
   "cell_type": "code",
   "id": "f5229711-de22-4a0d-969d-498c3184cc20",
   "metadata": {
    "language": "sql",
    "name": "cell16",
    "collapsed": false,
    "resultHeight": 87
   },
   "outputs": [],
   "source": "select *,sum(production_cost) over(partition by dt,brand order by dt) as agg_cost from prd_tbl;",
   "execution_count": null
  },
  {
   "cell_type": "code",
   "id": "d37514b1-45a4-4807-a56a-918916eac8c4",
   "metadata": {
    "language": "sql",
    "name": "cell17",
    "collapsed": false,
    "resultHeight": 87
   },
   "outputs": [],
   "source": "CREATE TABLE exchange_rates (\n    currency_code VARCHAR(3),\n    date DATE,\n    currency_exchange_rate DECIMAL(10, 2)\n);\n\nINSERT INTO exchange_rates (currency_code, date, currency_exchange_rate) VALUES\n('USD', '2024-06-01', 1.20),\n('USD', '2024-06-02', 1.21),\n('USD', '2024-06-03', 1.22),\n('USD', '2024-06-04', 1.23),\n('USD', '2024-07-01', 1.25),\n('USD', '2024-07-02', 1.26),\n('USD', '2024-07-03', 1.27),\n('EUR', '2024-06-01', 1.40),\n('EUR', '2024-06-02', 1.41),\n('EUR', '2024-06-03', 1.42),\n('EUR', '2024-06-04', 1.43),\n('EUR', '2024-07-01', 1.45),\n('EUR', '2024-07-02', 1.46),\n('EUR', '2024-07-03', 1.47);",
   "execution_count": null
  },
  {
   "cell_type": "code",
   "id": "2eb6f432-97f3-4cb9-90c9-5def55d12dad",
   "metadata": {
    "language": "sql",
    "name": "cell18",
    "collapsed": false,
    "resultHeight": 87
   },
   "outputs": [],
   "source": "select * from exchange_rates;",
   "execution_count": null
  },
  {
   "cell_type": "code",
   "id": "b59b3c64-1172-4fc8-998b-34331d5db76a",
   "metadata": {
    "language": "sql",
    "name": "cell19",
    "collapsed": false,
    "resultHeight": 87
   },
   "outputs": [],
   "source": "with cte as (\nselect *,concat(currency_code,'-',year(date),'-',month(date)) as currency_codetype_year_month ,row_number() over(partition by currency_code,year(date),month(date) order by date) as rownum_asc,row_number() over(partition by currency_code,year(date),month(date) order by date desc) as rownum_desc from exchange_rates )\nselect currency_codetype_year_month,max((case when rownum_asc=1 then currency_exchange_rate end)) as currency_exchange_beginning_of_month,\nmax((case when rownum_desc=1 then currency_exchange_rate end)) as currency_exchange_end_of_month\nfrom cte group by currency_codetype_year_month;",
   "execution_count": null
  },
  {
   "cell_type": "code",
   "id": "68420b84-669d-4d9f-a4c6-410b56a08eef",
   "metadata": {
    "language": "sql",
    "name": "cell20",
    "collapsed": false,
    "resultHeight": 87
   },
   "outputs": [],
   "source": "CREATE TABLE department (deptid INT, deptname VARCHAR(50));\nINSERT INTO department VALUES (101, 'HR'), (102, 'Finance'), (103, 'Marketing');\n\nCREATE TABLE employee (empid INT, salary INT, deptid INT);\nINSERT INTO employee VALUES (1, 70000, 101),(2, 50000, 101),(3, 60000, 101),(4, 65000, 102),(5, 65000, 102),(6, 55000, 102),(7, 60000, 103),(8, 70000, 103),(9, 80000, 103);\n",
   "execution_count": null
  },
  {
   "cell_type": "code",
   "id": "88c25653-e117-499f-b07b-6b7211ace111",
   "metadata": {
    "language": "sql",
    "name": "cell21",
    "collapsed": false,
    "resultHeight": 87
   },
   "outputs": [],
   "source": "select * from department;",
   "execution_count": null
  },
  {
   "cell_type": "code",
   "id": "ff230bd8-4298-437c-a3b9-2b25db4d3b63",
   "metadata": {
    "language": "sql",
    "name": "cell22",
    "collapsed": false,
    "resultHeight": 87
   },
   "outputs": [],
   "source": "select * from employee;",
   "execution_count": null
  },
  {
   "cell_type": "code",
   "id": "36e94a21-71ce-4d8d-bd1a-a2c3c9a40fcf",
   "metadata": {
    "language": "sql",
    "name": "cell24",
    "resultHeight": 391
   },
   "outputs": [],
   "source": "select e.empid,e.salary,e.deptid,d.deptname,dense_rank() over(partition by deptname order by salary desc) as rank from employee e inner join department d on e.deptid=d.deptid",
   "execution_count": null
  },
  {
   "cell_type": "code",
   "id": "1781f96e-f5dd-44de-b331-0011bdd724fd",
   "metadata": {
    "language": "sql",
    "name": "cell23",
    "collapsed": false,
    "resultHeight": 181
   },
   "outputs": [],
   "source": "with cte as(\nselect e.empid,e.salary,e.deptid,d.deptname,dense_rank() over(partition by deptname order by salary desc) as rank from employee e inner join department d on e.deptid=d.deptid)\nselect * from cte where rank=2;\n",
   "execution_count": null
  },
  {
   "cell_type": "code",
   "id": "404af0b6-fab4-44b9-b528-81c1381d71de",
   "metadata": {
    "language": "sql",
    "name": "cell25",
    "collapsed": false,
    "resultHeight": 111
   },
   "outputs": [],
   "source": "CREATE TABLE employees_tbl (eid INT, ename VARCHAR(50), gender VARCHAR(10));\n\nINSERT INTO employees_tbl VALUES (1, 'John Doe', 'Male'),(2, 'Jane Smith', 'Female'),\n(3, 'Michael Johnson', 'Male'),(4, 'Emily Davis', 'Female'),(5, 'Robert Brown', 'Male'),\n(6, 'Sophia Wilson', 'Female'),(7, 'David Lee', 'Male'),(8, 'Emma White', 'Female'),\n(9, 'James Taylor', 'Male'),(10, 'William Clark', 'Male');\n",
   "execution_count": null
  },
  {
   "cell_type": "code",
   "id": "18d62489-9807-4452-87a3-e4819bd49ecf",
   "metadata": {
    "language": "sql",
    "name": "cell35",
    "collapsed": false,
    "resultHeight": 426
   },
   "outputs": [],
   "source": "select * from employees_tbl;",
   "execution_count": null
  },
  {
   "cell_type": "code",
   "id": "01fcecd9-e764-43fa-97cb-443028a69527",
   "metadata": {
    "language": "sql",
    "name": "cell36",
    "collapsed": false,
    "resultHeight": 111
   },
   "outputs": [],
   "source": "select current_role()",
   "execution_count": null
  },
  {
   "cell_type": "code",
   "id": "4c4d6315-7aa5-4f01-b78a-7889557a72b9",
   "metadata": {
    "language": "sql",
    "name": "cell37",
    "resultHeight": 111
   },
   "outputs": [],
   "source": "use accountadmin;\ncreate or replace masking policy mymaskingpolicy as (val string) returns string-> case when current_role() in ('ACCOUNTADMIN') then val else repeat('*',len(val)) end;",
   "execution_count": null
  },
  {
   "cell_type": "code",
   "id": "f3fbd50c-9244-4b02-aefd-5e706cfb21a3",
   "metadata": {
    "language": "sql",
    "name": "cell26",
    "collapsed": false,
    "resultHeight": 111,
    "codeCollapsed": false
   },
   "outputs": [],
   "source": "with cte as (\nselect count(gender) as total_person from employees_tbl),cte2 as(\nselect count(*) as male_count from employees_tbl where gender='Male'\n),cte3 as(\n\nselect count(*) as female_count from employees_tbl where gender='Female' \n)\nselect ((cte2.male_count/cte.total_person)*100) as male_per,((cte3.female_count/cte.total_person)*100) as female_per from cte,cte2,cte3 ;\n",
   "execution_count": null
  },
  {
   "cell_type": "code",
   "id": "c3cea3a9-c786-4b1f-b4fa-86cbea3d3930",
   "metadata": {
    "language": "sql",
    "name": "cell27",
    "collapsed": false,
    "resultHeight": 111
   },
   "outputs": [],
   "source": "select count(*) as male_count from employees_tbl where gender='Female' ;",
   "execution_count": null
  },
  {
   "cell_type": "code",
   "id": "296676fc-7cdd-4d56-8a4d-915ebffbf3af",
   "metadata": {
    "language": "sql",
    "name": "cell28",
    "resultHeight": 111
   },
   "outputs": [],
   "source": "create table products (pid int, pname varchar(50), price int);\ninsert into products values (1, 'A', 1000),(2, 'B', 400),(3, 'C', 500);\n\ncreate table transcations (pid int, sold_date DATE, qty int, amount int);\ninsert into transcations values (1, '2024-02-01', 2, 2000),(1, '2024-03-01', 4, 4000),\n(1, '2024-03-15', 2, 2000),(3, '2024-04-24', 3, 1500),(3, '2024-05-16', 5, 2500);",
   "execution_count": null
  },
  {
   "cell_type": "markdown",
   "id": "8a9f36cd-e2e2-4ea5-97b5-a89a804315f5",
   "metadata": {
    "name": "cell30",
    "collapsed": false,
    "resultHeight": 41
   },
   "source": "2nd wednesday of current month"
  },
  {
   "cell_type": "code",
   "id": "f784d935-01ad-409a-905d-19fd29ed9b67",
   "metadata": {
    "language": "sql",
    "name": "cell31",
    "collapsed": false,
    "resultHeight": 111
   },
   "outputs": [],
   "source": "select date_from_parts(year(current_date),month(current_date),01) as startdate",
   "execution_count": null
  },
  {
   "cell_type": "code",
   "id": "0e22677a-1420-4878-8fb2-a181acba35bb",
   "metadata": {
    "language": "sql",
    "name": "cell29",
    "collapsed": false,
    "resultHeight": 111
   },
   "outputs": [],
   "source": "with recursive cte as(\nselect date_from_parts(year(current_date),month(current_date),01) as startdate,\ndayname(current_date) as dayname\n\nunion all\nselect dateadd(day,1,startdate) as startdate_f,\ndayname(startdate_f) as dayname\nfrom cte where startdate_f<='2024-11-30'\n\n),cte2 as(\nselect startdate,dayname,row_number() over(order by dayname) as rn from cte where dayname='Wed')\nselect startdate from cte2 where rn=2;",
   "execution_count": null
  },
  {
   "cell_type": "code",
   "id": "db402c6f-0644-4afb-a24a-8375b330ca8b",
   "metadata": {
    "language": "sql",
    "name": "cell32",
    "collapsed": false,
    "resultHeight": 111
   },
   "outputs": [],
   "source": "\nCREATE TABLE emps_tbl (emp_name VARCHAR(50), dept_id INT, salary INT);\n\nINSERT INTO emps_tbl VALUES ('Siva', 1, 30000), ('Ravi', 2, 40000), ('Prasad', 1, 50000), ('Sai', 2, 20000), ('Anna', 2, 10000);",
   "execution_count": null
  },
  {
   "cell_type": "code",
   "id": "62114e46-298a-470c-9112-384db9ba1836",
   "metadata": {
    "language": "sql",
    "name": "cell33",
    "collapsed": false,
    "resultHeight": 251
   },
   "outputs": [],
   "source": "select EMP_NAME from emps_tbl order by right(\"EMP_NAME\",2);",
   "execution_count": null
  },
  {
   "cell_type": "code",
   "id": "fbd2a502-d268-4c24-9bef-3b1e429833d2",
   "metadata": {
    "language": "sql",
    "name": "cell34",
    "collapsed": false,
    "resultHeight": 146
   },
   "outputs": [],
   "source": "with cte as (\nselect emp_name,dept_id,salary,row_number() over(partition by dept_id order by salary) as rn_asc,row_number() over(partition by dept_id order by salary desc) as rn_desc from emps_tbl )\nselect dept_id,max(case when rn_asc=1 then emp_name end) lowestsal,max(case when rn_desc=1 then emp_name end )highestsal from cte group by dept_id order by dept_id asc;\n",
   "execution_count": null
  },
  {
   "cell_type": "code",
   "id": "53ed878d-5703-4d0c-addf-4fbb490f7e15",
   "metadata": {
    "language": "sql",
    "name": "cell38",
    "collapsed": false,
    "resultHeight": 111
   },
   "outputs": [],
   "source": "CREATE TABLE STUDENTS (id int, name string, marks INT);\n\nINSERT INTO STUDENTS VALUES (1, 'Ashlay', 81), (2, 'Samantha', 75), (3, 'Julia', 76), (4, 'Belvet', 84);",
   "execution_count": null
  },
  {
   "cell_type": "code",
   "id": "0f6b9d5e-a04a-46a9-9c91-225fc3b4b03a",
   "metadata": {
    "language": "sql",
    "name": "cell39",
    "collapsed": false,
    "resultHeight": 216
   },
   "outputs": [],
   "source": "select * from STUDENTS",
   "execution_count": null
  },
  {
   "cell_type": "code",
   "id": "fc7c5c15-0fdb-4b49-86c0-947c8a310fc5",
   "metadata": {
    "language": "sql",
    "name": "cell40",
    "collapsed": false,
    "resultHeight": 181
   },
   "outputs": [],
   "source": "select Name from STUDENTS where Marks>75 order by right(Name,3),ID asc",
   "execution_count": null
  },
  {
   "cell_type": "code",
   "id": "cc842d90-2293-4858-bf03-ff1a1250ec61",
   "metadata": {
    "language": "sql",
    "name": "cell41",
    "collapsed": false,
    "resultHeight": 111
   },
   "outputs": [],
   "source": "CREATE TABLE transactions_1308 (transaction_id BIGINT, type VARCHAR(50), amount INT,transaction_date DATE);\n\n-- Insert data into the table\nINSERT INTO transactions_1308 VALUES (53151, 'deposit', 178, '2022-07-08'), (29776, 'withdrawal', 25, '2022-07-08'),(16461, 'withdrawal', 45, '2022-07-08'),(19153, 'deposit', 65, '2022-07-10'),(77134, 'deposit', 32, '2022-07-10');\n",
   "execution_count": null
  },
  {
   "cell_type": "code",
   "id": "19fd4fb2-d930-4ff7-ba41-232aad2f746e",
   "metadata": {
    "language": "sql",
    "name": "cell44",
    "collapsed": false,
    "resultHeight": 251
   },
   "outputs": [],
   "source": "select * from transactions_1308;",
   "execution_count": null
  },
  {
   "cell_type": "code",
   "id": "57878dbe-537c-48f3-888a-43265684ecb9",
   "metadata": {
    "language": "sql",
    "name": "cell45",
    "collapsed": false,
    "resultHeight": 251
   },
   "outputs": [],
   "source": "select *,sum(case when type='deposit' then amount else -amount end) over(order by transaction_date) as runningamount from transactions_1308",
   "execution_count": null
  },
  {
   "cell_type": "code",
   "id": "f9d73957-fcc0-4146-bcec-8f6ddec603fb",
   "metadata": {
    "language": "sql",
    "name": "cell42",
    "collapsed": false,
    "resultHeight": 251
   },
   "outputs": [],
   "source": "with cte as(\nselect *,row_number() over(partition by transaction_date order by (select null)) as rn from transactions_1308\n)\nselect *,sum(case when type= 'deposit' then amount else -amount end) over(order by transaction_date,rn) as runningamount from cte;",
   "execution_count": null
  },
  {
   "cell_type": "code",
   "id": "7fa14f32-1492-4db1-b22f-a103c0595d5f",
   "metadata": {
    "language": "sql",
    "name": "cell43",
    "collapsed": false,
    "resultHeight": 111
   },
   "outputs": [],
   "source": "CREATE TABLE sls_tbl (pid INT, sls_dt DATE, sls_amt INT );\n\n-- Insert data into the table\nINSERT INTO sls_tbl (pid, sls_dt, sls_amt)\nVALUES (201, '2024-07-11', 140), (201, '2024-07-18', 160), (201, '2024-07-25', 150), (201, '2024-08-01', 180), (201, '2024-08-15', 170), (201, '2024-08-29', 130);\n",
   "execution_count": null
  },
  {
   "cell_type": "code",
   "id": "1ddd2f20-a082-4185-a8ce-c36b34d0a4c9",
   "metadata": {
    "language": "sql",
    "name": "cell46",
    "collapsed": false,
    "resultHeight": 286
   },
   "outputs": [],
   "source": "select * from sls_tbl;",
   "execution_count": null
  },
  {
   "cell_type": "code",
   "id": "08a668e5-42d0-40b2-ba45-c5c03a44faf4",
   "metadata": {
    "language": "sql",
    "name": "cell49",
    "collapsed": false,
    "resultHeight": 111
   },
   "outputs": [],
   "source": "select DATE_FROM_PARTS(2024,07,11)",
   "execution_count": null
  },
  {
   "cell_type": "code",
   "id": "1db43700-b983-4b06-b6a3-71635a680003",
   "metadata": {
    "language": "sql",
    "name": "cell50",
    "collapsed": false,
    "resultHeight": 286
   },
   "outputs": [],
   "source": "select SLS_DT from sls_tbl",
   "execution_count": null
  },
  {
   "cell_type": "code",
   "id": "562540ee-bbf9-44d6-ae6b-0c267fd73832",
   "metadata": {
    "language": "sql",
    "name": "cell47",
    "collapsed": false,
    "resultHeight": 146
   },
   "outputs": [],
   "source": "with recursive cte as(\nselect DATE_FROM_PARTS(2024,07,11) as startdate\nunion all\nselect dateadd(day,7,startdate) as date_r from cte\nwhere date_r<='2024-08-29'\n\n)select startdate as sls_date from cte WHERE startdate not in (select SLS_DT from sls_tbl ) ;",
   "execution_count": null
  },
  {
   "cell_type": "code",
   "id": "a86ec26c-d4c7-4d88-94c6-bddb0db6c6fe",
   "metadata": {
    "language": "sql",
    "name": "cell48",
    "codeCollapsed": false,
    "collapsed": false,
    "resultHeight": 111
   },
   "outputs": [],
   "source": "--Create table syntax\nCREATE TABLE testtbl (cola VARCHAR(10));\n\n-- Insert data into the table\nINSERT INTO testtbl (cola)\nVALUES ('1,2'), ('3'), ('4');\n",
   "execution_count": null
  },
  {
   "cell_type": "code",
   "id": "3628bcfd-025b-40cb-a3e6-5070ef7243af",
   "metadata": {
    "language": "sql",
    "name": "cell51",
    "collapsed": false,
    "resultHeight": 216
   },
   "outputs": [],
   "source": "SELECT to_number(VALUE) as value\nFROM testtbl,\n     LATERAL FLATTEN(INPUT => SPLIT(cola, ','))",
   "execution_count": null
  },
  {
   "cell_type": "code",
   "id": "327df0a0-52c5-4704-b0d9-4308543789e2",
   "metadata": {
    "language": "sql",
    "name": "cell52",
    "collapsed": false,
    "resultHeight": 111
   },
   "outputs": [],
   "source": "-- Create table\nCREATE TABLE user_activity (\n    date DATE,\n    user_id INT,\n    activity VARCHAR(10)\n);\n \n-- Insert data\nINSERT INTO user_activity (date, user_id, activity) VALUES\n('2022-02-20', 1, 'abc'),\n('2022-02-20', 2, 'xyz'),\n('2022-02-22', 1, 'xyz'),\n('2022-02-22', 3, 'klm'),\n('2022-02-24', 1, 'abc'),\n('2022-02-24', 2, 'abc'),\n('2022-02-24', 3, 'abc');",
   "execution_count": null
  },
  {
   "cell_type": "code",
   "id": "8cbc4ad4-2860-40de-a759-934b13160024",
   "metadata": {
    "language": "sql",
    "name": "cell53",
    "collapsed": false,
    "resultHeight": 321
   },
   "outputs": [],
   "source": "select * from user_activity;",
   "execution_count": null
  },
  {
   "cell_type": "code",
   "id": "c39b87d9-6019-47e7-817d-b7ebc85ffe54",
   "metadata": {
    "language": "sql",
    "name": "cell57",
    "collapsed": false,
    "resultHeight": 321
   },
   "outputs": [],
   "source": "select *,row_number() over(partition by user_id order by (select null)) as rn from user_activity",
   "execution_count": null
  },
  {
   "cell_type": "code",
   "id": "758363ff-7c80-4f3c-b93d-8e15ad1aa2aa",
   "metadata": {
    "language": "sql",
    "name": "cell55",
    "collapsed": false,
    "resultHeight": 181
   },
   "outputs": [],
   "source": "with cte as (\nselect *,row_number() over(partition by user_id order by (select null)) as rn from user_activity) select count(user_id) from cte group by rn;",
   "execution_count": null
  },
  {
   "cell_type": "code",
   "id": "d9baa9fe-b410-4c46-856f-2d4947eb2a26",
   "metadata": {
    "language": "sql",
    "name": "cell56",
    "collapsed": false,
    "resultHeight": 181
   },
   "outputs": [],
   "source": "select count(user_id) from user_activity group by date",
   "execution_count": null
  },
  {
   "cell_type": "code",
   "id": "7fcc5e73-ccb3-4434-9329-9086519be48a",
   "metadata": {
    "language": "sql",
    "name": "cell54",
    "collapsed": false,
    "resultHeight": 111
   },
   "outputs": [],
   "source": "with cte as(\nselect *,row_number() over(partition by user_id order by user_id) as rn from user_activity),cte2 as(\nselect count(*) from user_activity group by date\n\n)",
   "execution_count": null
  },
  {
   "cell_type": "code",
   "id": "62386f60-7d57-4016-89ba-c4cd4614529f",
   "metadata": {
    "language": "sql",
    "name": "cell58",
    "collapsed": false,
    "resultHeight": 111
   },
   "outputs": [],
   "source": "CREATE TABLE MATCH(TEAM VARCHAR(20));\n \nINSERT INTO MATCH VALUES ('INDIA'),('PAK'),('AUS'),('ENG');",
   "execution_count": null
  },
  {
   "cell_type": "code",
   "id": "94771b8b-9746-4dfc-b8c4-f8c49e6a5292",
   "metadata": {
    "language": "sql",
    "name": "cell59",
    "collapsed": false,
    "resultHeight": 286
   },
   "outputs": [],
   "source": "select m1.team as team_A,m2.team as team_B from MATCH m1 join MATCH m2 on m1.team<m2.team order by team_A,team_B",
   "execution_count": null
  },
  {
   "cell_type": "code",
   "id": "db30f820-5d5d-4fda-b8ca-3dc0a04d760d",
   "metadata": {
    "language": "sql",
    "name": "cell65",
    "collapsed": false,
    "resultHeight": 438
   },
   "outputs": [],
   "source": "select least(m1.team,m2.team) as team from MATCH m1 join MATCH m2 order by team ",
   "execution_count": null
  },
  {
   "cell_type": "code",
   "id": "5910093f-4db2-413a-8964-e2be1187bb15",
   "metadata": {
    "language": "sql",
    "name": "cell61",
    "collapsed": false,
    "resultHeight": 111
   },
   "outputs": [],
   "source": "lateral(select team from match)",
   "execution_count": null
  },
  {
   "cell_type": "code",
   "id": "0e7f0e78-f5fa-46c8-b1ae-b43839afbb77",
   "metadata": {
    "language": "sql",
    "name": "cell60",
    "collapsed": false,
    "resultHeight": 111
   },
   "outputs": [],
   "source": "select team from match , lateral(select team from match);",
   "execution_count": null
  },
  {
   "cell_type": "code",
   "id": "e3c51428-d702-4293-a10b-84c16819e060",
   "metadata": {
    "language": "sql",
    "name": "cell63",
    "collapsed": false,
    "resultHeight": 321
   },
   "outputs": [],
   "source": "select  date,count(distinct user_id)from user_activity",
   "execution_count": null
  },
  {
   "cell_type": "code",
   "id": "56721b05-b934-47fd-89fc-d413ef532b83",
   "metadata": {
    "language": "sql",
    "name": "cell64",
    "collapsed": false,
    "resultHeight": 181
   },
   "outputs": [],
   "source": "select distinct(user_id) from  user_activity",
   "execution_count": null
  },
  {
   "cell_type": "code",
   "id": "2c4cff1b-0364-430d-9a13-53ad96b301f8",
   "metadata": {
    "language": "sql",
    "name": "cell62",
    "collapsed": false,
    "resultHeight": 181
   },
   "outputs": [],
   "source": "select date,listagg(distinct user_id,',') from  user_activity group by date",
   "execution_count": null
  },
  {
   "cell_type": "markdown",
   "id": "bab39b11-2f9b-4800-bfcb-82e583c3aed9",
   "metadata": {
    "name": "cell67",
    "collapsed": false,
    "resultHeight": 243
   },
   "source": "CREATE TABLE SEARCH_FREQUENCY(\n  SEARCHES INT,\n  NUM_USER INT\n);\n \nINSERT INTO SEARCH_FREQUENCY VALUES\n(1,2),(4,1),(2,2),(3,3),(6,1),(5,3),(7,2);\n \nWrite a query to report the median of searches made by a user. Round the median to one decimal Point.\n \nOUTPUT of this question:- Median  \n                                           3.5"
  },
  {
   "cell_type": "code",
   "id": "00e28b41-6969-494c-bebe-5231b7fd955a",
   "metadata": {
    "language": "sql",
    "name": "cell66",
    "collapsed": false,
    "resultHeight": 111
   },
   "outputs": [],
   "source": "CREATE TABLE SEARCH_FREQUENCY(\n  SEARCHES INT,\n  NUM_USER INT\n);\n \nINSERT INTO SEARCH_FREQUENCY VALUES\n(1,2),(4,1),(2,2),(3,3),(6,1),(5,3),(7,2);\n",
   "execution_count": null
  },
  {
   "cell_type": "markdown",
   "id": "73fa8b95-acff-4bb3-b98f-79548ddd92c8",
   "metadata": {
    "name": "cell74",
    "collapsed": false,
    "resultHeight": 67
   },
   "source": "SELECT table1.value\n  FROM TABLE(SPLIT_TO_TABLE('a.b', '.')) AS table1\n  ORDER BY table1.value"
  },
  {
   "cell_type": "code",
   "id": "f3cabac8-a2ee-4025-8cfb-419961b36a63",
   "metadata": {
    "language": "sql",
    "name": "cell68",
    "collapsed": false,
    "resultHeight": 111
   },
   "outputs": [],
   "source": "select split_to_table(listagg(repeat((to_char(searches)||','),num_user),''),',')::int as num from SEARCH_FREQUENCY",
   "execution_count": null
  },
  {
   "cell_type": "code",
   "id": "895598b1-28e6-44ec-9cdb-c4c6525156fd",
   "metadata": {
    "language": "sql",
    "name": "cell75",
    "collapsed": false,
    "resultHeight": 321
   },
   "outputs": [],
   "source": "SELECT \n    repeat(to_char(searches),num_user)\n    FROM SEARCH_FREQUENCY ",
   "execution_count": null
  },
  {
   "cell_type": "code",
   "id": "99be6bc6-7546-401a-a7ee-8af2a35eb068",
   "metadata": {
    "language": "sql",
    "name": "cell76",
    "collapsed": false,
    "resultHeight": 135
   },
   "outputs": [],
   "source": "with recursive cte as(\nselect searches as s,num_user as nu,row_number() over(order by searches) as rn from SEARCH_FREQUENCY\nunion all\nselect repeat(to_char(s),nu) as repnum from cte where rn=count(*)\n\n)select repnum from cte;",
   "execution_count": null
  },
  {
   "cell_type": "code",
   "id": "25825530-ef82-40fe-b4ed-e9383a6ebc96",
   "metadata": {
    "language": "sql",
    "name": "cell70",
    "collapsed": false,
    "resultHeight": 111
   },
   "outputs": [],
   "source": "select replace(REPLACE(listagg(repeat(to_char(searches),num_user),''),',')from SEARCH_FREQUENCY",
   "execution_count": null
  },
  {
   "cell_type": "code",
   "id": "2c6ea063-88c1-49c4-9c22-5599abdbae95",
   "metadata": {
    "language": "sql",
    "name": "cell69"
   },
   "outputs": [],
   "source": "select count(searches) from SEARCH_FREQUENCY group by ",
   "execution_count": null
  },
  {
   "cell_type": "code",
   "id": "a94c78f9-5f04-49d7-b02e-6b26dc945584",
   "metadata": {
    "language": "sql",
    "name": "cell71",
    "collapsed": false,
    "resultHeight": 111
   },
   "outputs": [],
   "source": "\nCREATE TABLE events ( pid INT, year INT ) ;\n-- Insert data into the table \nINSERT INTO events VALUES (1, 2019), (1, 2020), (1, 2021), (2, 2022), (2, 2021),(3, 2019), (3, 2021), (3, 2022);",
   "execution_count": null
  },
  {
   "cell_type": "code",
   "id": "1b8c6479-0dcf-48a3-bc1c-1a7f2be773eb",
   "metadata": {
    "language": "sql",
    "name": "cell72",
    "collapsed": false,
    "resultHeight": 356
   },
   "outputs": [],
   "source": "with cte as(\nselect *,lag(year,1,0) over(order by pid) as previousyear from events)\nselect year-previousyear",
   "execution_count": null
  },
  {
   "cell_type": "code",
   "id": "56490d87-82be-4766-8643-8639a6d9c041",
   "metadata": {
    "language": "sql",
    "name": "cell73"
   },
   "outputs": [],
   "source": "",
   "execution_count": null
  }
 ]
}